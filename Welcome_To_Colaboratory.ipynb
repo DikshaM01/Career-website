{
  "cells": [
    {
      "cell_type": "markdown",
      "metadata": {
        "id": "view-in-github",
        "colab_type": "text"
      },
      "source": [
        "<a href=\"https://colab.research.google.com/github/DikshaM01/Career-website/blob/main/Welcome_To_Colaboratory.ipynb\" target=\"_parent\"><img src=\"https://colab.research.google.com/assets/colab-badge.svg\" alt=\"Open In Colab\"/></a>"
      ]
    },
    {
      "cell_type": "markdown",
      "source": [
        "1. Github is a platform for sharing and collaborating software projects powered by GIT version control system which lets you record each and every version of your project as you make changes"
      ],
      "metadata": {
        "id": "lzZjUQxa6OIa"
      }
    },
    {
      "cell_type": "markdown",
      "source": [
        "2. what is gitignore ?\n",
        "    actually when you make any projects in the python then there will be lot of files like built files , compiled files  created by python which we may not want to put into the git because they are not source code. to ignore all these files we can select .gitignore python file soo that accidentally we will not include any other intermediate files."
      ],
      "metadata": {
        "id": "Rn0yocdO7AaY"
      }
    },
    {
      "cell_type": "markdown",
      "source": [
        "License means whether they can use commercially like how should others  will work on the projects"
      ],
      "metadata": {
        "id": "bRiPJxIP8jcu"
      }
    },
    {
      "cell_type": "markdown",
      "source": [
        "4. github will be used to store the project,track the  project but not used for the development for the project."
      ],
      "metadata": {
        "id": "IHKmK1PU9AcF"
      }
    },
    {
      "cell_type": "markdown",
      "source": [
        "replit is a cloud platform where it can connect to github and will let us write the code and can be accessible by anywhere"
      ],
      "metadata": {
        "id": "G3FuUcOS9NuN"
      }
    },
    {
      "cell_type": "markdown",
      "source": [
        "Flask is most important in python"
      ],
      "metadata": {
        "id": "7W7musVV9Vgg"
      }
    },
    {
      "cell_type": "markdown",
      "source": [
        "flask is a module name and always in lowercase\n",
        "\n",
        "what is module? code library or a file that contains a set of functions that you want to include in your application.\n"
      ],
      "metadata": {
        "id": "_ljz9IxCi8br"
      }
    },
    {
      "cell_type": "markdown",
      "source": [
        "step 1: install flask using pip command"
      ],
      "metadata": {
        "id": "eLKdTj37gqm2"
      }
    },
    {
      "cell_type": "code",
      "source": [
        "pip install flask"
      ],
      "metadata": {
        "id": "ojTxJzqbi-zK",
        "outputId": "fc83944c-df60-4eba-e892-526981684cd7",
        "colab": {
          "base_uri": "https://localhost:8080/"
        }
      },
      "execution_count": 1,
      "outputs": [
        {
          "output_type": "stream",
          "name": "stdout",
          "text": [
            "Requirement already satisfied: flask in /usr/local/lib/python3.10/dist-packages (2.2.5)\n",
            "Requirement already satisfied: Werkzeug>=2.2.2 in /usr/local/lib/python3.10/dist-packages (from flask) (3.0.0)\n",
            "Requirement already satisfied: Jinja2>=3.0 in /usr/local/lib/python3.10/dist-packages (from flask) (3.1.2)\n",
            "Requirement already satisfied: itsdangerous>=2.0 in /usr/local/lib/python3.10/dist-packages (from flask) (2.1.2)\n",
            "Requirement already satisfied: click>=8.0 in /usr/local/lib/python3.10/dist-packages (from flask) (8.1.7)\n",
            "Requirement already satisfied: MarkupSafe>=2.0 in /usr/local/lib/python3.10/dist-packages (from Jinja2>=3.0->flask) (2.1.3)\n"
          ]
        }
      ]
    },
    {
      "cell_type": "code",
      "source": [
        "from flask import Flask"
      ],
      "metadata": {
        "id": "qjXJZhOXjPbK"
      },
      "execution_count": 2,
      "outputs": []
    },
    {
      "cell_type": "markdown",
      "source": [
        "app is an object of class flask. we imported class name Flask from the module flask and created object of it that is app"
      ],
      "metadata": {
        "id": "TAwVw_qJjczD"
      }
    },
    {
      "cell_type": "markdown",
      "source": [
        "we are importing fucntionality from the flask and putting it into the variable called app"
      ],
      "metadata": {
        "id": "y6msxEJGjuJ8"
      }
    },
    {
      "cell_type": "code",
      "source": [
        "app=Flask(__name__)"
      ],
      "metadata": {
        "id": "4eTxQzXwjp5I"
      },
      "execution_count": 3,
      "outputs": []
    },
    {
      "cell_type": "markdown",
      "source": [
        "Jinja2 is a modern day templating language for Python developers. It was made after Django’s template. It is used to create HTML, XML or other markup formats that are returned to the user via an HTTP request."
      ],
      "metadata": {
        "id": "NbWJh-ErkfXK"
      }
    },
    {
      "cell_type": "markdown",
      "source": [
        "__name__ is a method in python which will show how the python script have been invoked. if it was invoked from the method app.py then the name variable  gonna have main and if it was invoked from somewhere else then it will show that. invoked means execution that is it will show from where the execution happened."
      ],
      "metadata": {
        "id": "kcuAFilclNa1"
      }
    },
    {
      "cell_type": "code",
      "source": [],
      "metadata": {
        "id": "y8AAyufUkg0e"
      },
      "execution_count": null,
      "outputs": []
    }
  ],
  "metadata": {
    "colab": {
      "name": "Welcome To Colaboratory",
      "toc_visible": true,
      "provenance": [],
      "include_colab_link": true
    },
    "kernelspec": {
      "display_name": "Python 3",
      "name": "python3"
    }
  },
  "nbformat": 4,
  "nbformat_minor": 0
}